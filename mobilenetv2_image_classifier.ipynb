{
  "nbformat": 4,
  "nbformat_minor": 0,
  "metadata": {
    "colab": {
      "provenance": []
    },
    "kernelspec": {
      "name": "python3",
      "display_name": "Python 3"
    },
    "language_info": {
      "name": "python"
    }
  },
  "cells": [
    {
      "cell_type": "code",
      "execution_count": null,
      "metadata": {
        "colab": {
          "base_uri": "https://localhost:8080/"
        },
        "id": "zNC1LfvnOeQk",
        "outputId": "0292dabd-d71d-4fe1-e69c-5a8ccb1894f7"
      },
      "outputs": [
        {
          "output_type": "stream",
          "name": "stdout",
          "text": [
            "Mounted at /content/drive\n"
          ]
        }
      ],
      "source": [
        "# Mount Google Drive to access local files\n",
        "from google.colab import drive\n",
        "drive.mount('/content/drive')"
      ]
    },
    {
      "cell_type": "code",
      "source": [
        "# Import required libraries\n",
        "import tensorflow as tf\n",
        "from tensorflow.keras import applications\n",
        "import PIL\n",
        "import numpy as np"
      ],
      "metadata": {
        "id": "P8Be5Fq5QKzS"
      },
      "execution_count": null,
      "outputs": []
    },
    {
      "cell_type": "code",
      "source": [
        "# Define input shape for the MobileNetV2 model\n",
        "input_shape = (224, 224)"
      ],
      "metadata": {
        "id": "2b7DSIniQeVW"
      },
      "execution_count": null,
      "outputs": []
    },
    {
      "cell_type": "code",
      "source": [
        "# Load and preprocess an image from a given path\n",
        "# - Resizes the image\n",
        "# - Converts it to a NumPy array\n",
        "# - Normalizes pixel values to [0, 1]\n",
        "def load_image(path):\n",
        "  img=PIL.Image.open(path).resize(input_shape)\n",
        "  img=np.array(img)/255.0\n",
        "  return img"
      ],
      "metadata": {
        "id": "69Mp0G2gSLmR"
      },
      "execution_count": null,
      "outputs": []
    },
    {
      "cell_type": "code",
      "source": [
        "# Load a pretrained MobileNetV2 model with the full classification layer\n",
        "# Weights are loaded from ImageNet\n",
        "def load_net():\n",
        "  model=applications.MobileNetV2(input_shape=IMG_SIZE,\n",
        "                                       include_top=True,\n",
        "                                       weights='imagenet')\n",
        "  return model"
      ],
      "metadata": {
        "id": "ZkMbeSGcQrk1"
      },
      "execution_count": null,
      "outputs": []
    },
    {
      "cell_type": "code",
      "source": [
        "# Perform prediction on a preprocessed image using the model\n",
        "# Prints top 3 predicted ImageNet class labels and confidence scores\n",
        "def prediction(model,img):\n",
        "  result=model.predict(img[np.newaxis,...])\n",
        "  predicted_label_index=np.argmax(result)\n",
        "  print('index of the predicted class in imagenet classes:',predicted_label_index)\n",
        "  # Decode top 3 predictions using ImageNet labels\n",
        "  decoded = applications.mobilenet.decode_predictions(result, top=3)[0]\n",
        "  for i, (imagenet_id, label, confidence) in enumerate(decoded):\n",
        "    print(f\"{i+1}. {label}: {confidence:.2f}\")"
      ],
      "metadata": {
        "id": "l2kAO5sJU3l4"
      },
      "execution_count": null,
      "outputs": []
    },
    {
      "cell_type": "code",
      "source": [
        "# Set image path (image should be stored in your Google Drive)\n",
        "path='path/pic.webp'\n",
        "\n",
        "# Load image and model, then run prediction\n",
        "test_image=load_image(path)\n",
        "net=load_net();\n",
        "prediction(net,test_image)"
      ],
      "metadata": {
        "colab": {
          "base_uri": "https://localhost:8080/"
        },
        "id": "aBtN7bu2TPQP",
        "outputId": "3d57f2cd-b2ad-4d71-f333-9412076f8656"
      },
      "execution_count": null,
      "outputs": [
        {
          "output_type": "stream",
          "name": "stderr",
          "text": [
            "WARNING:tensorflow:6 out of the last 6 calls to <function TensorFlowTrainer.make_predict_function.<locals>.one_step_on_data_distributed at 0x7a3f6cb928e0> triggered tf.function retracing. Tracing is expensive and the excessive number of tracings could be due to (1) creating @tf.function repeatedly in a loop, (2) passing tensors with different shapes, (3) passing Python objects instead of tensors. For (1), please define your @tf.function outside of the loop. For (2), @tf.function has reduce_retracing=True option that can avoid unnecessary retracing. For (3), please refer to https://www.tensorflow.org/guide/function#controlling_retracing and https://www.tensorflow.org/api_docs/python/tf/function for  more details.\n"
          ]
        },
        {
          "output_type": "stream",
          "name": "stdout",
          "text": [
            "\u001b[1m1/1\u001b[0m \u001b[32m━━━━━━━━━━━━━━━━━━━━\u001b[0m\u001b[37m\u001b[0m \u001b[1m1s\u001b[0m 1s/step\n",
            "index of the predicted class in imagenet classes: 1\n",
            "1. goldfish: 0.18\n",
            "2. ringlet: 0.08\n",
            "3. mantis: 0.05\n"
          ]
        }
      ]
    }
  ]
}